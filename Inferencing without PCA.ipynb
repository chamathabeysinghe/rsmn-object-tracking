{
 "cells": [
  {
   "cell_type": "code",
   "execution_count": null,
   "metadata": {},
   "outputs": [],
   "source": [
    "import numpy as np\n",
    "import os\n",
    "from data import dnn_input\n",
    "from data import classifier_input\n",
    "from data import view_tracking_video\n",
    "from sklearn.externals import joblib\n",
    "from copy import copy, deepcopy\n",
    "import matplotlib.pyplot as plt"
   ]
  },
  {
   "cell_type": "code",
   "execution_count": null,
   "metadata": {},
   "outputs": [],
   "source": [
    "test_data = dnn_input.get_processed_frames(os.path.abspath('./data/videos/frames_test/'), relative=False)\n",
    "frames = dnn_input.get_frames(os.path.abspath('./data/videos/frames_test/'), start=1, end=46)\n",
    "rois = test_data[1]\n",
    "\n",
    "output_test = np.load('dnn_model_output_without_pca.npy')"
   ]
  },
  {
   "cell_type": "code",
   "execution_count": null,
   "metadata": {},
   "outputs": [],
   "source": [
    "output_test.shape"
   ]
  },
  {
   "cell_type": "code",
   "execution_count": null,
   "metadata": {},
   "outputs": [],
   "source": [
    "X_test_proper, y_test_proper = classifier_input.get_processed_classifier_input_inference(output_test, normalized=True, balanced=False, do_shuffle=False)"
   ]
  },
  {
   "cell_type": "code",
   "execution_count": null,
   "metadata": {},
   "outputs": [],
   "source": [
    "normalizer = joblib.load('./checkpoints/normalizer.joblib.pkl')\n",
    "X_test_proper_cp = normalizer.transform(X_test_proper)"
   ]
  },
  {
   "cell_type": "code",
   "execution_count": null,
   "metadata": {},
   "outputs": [],
   "source": [
    "pca = joblib.load('./checkpoints/pca.joblib.pkl')\n",
    "X_pca_test_proper = pca.transform(X_test_proper)"
   ]
  },
  {
   "cell_type": "code",
   "execution_count": null,
   "metadata": {},
   "outputs": [],
   "source": [
    "clf = joblib.load('./checkpoints/lgbmclassifier.joblib.pkl')"
   ]
  },
  {
   "cell_type": "code",
   "execution_count": null,
   "metadata": {},
   "outputs": [],
   "source": [
    "print(clf.score(X_test_proper_cp, y_test_proper))\n",
    "y_predict_proper = clf.predict(X_test_proper_cp)\n",
    "y_predict_proper_prob = clf.predict_proba(X_test_proper_cp)[:,1]"
   ]
  },
  {
   "cell_type": "code",
   "execution_count": null,
   "metadata": {},
   "outputs": [],
   "source": [
    "y_predict_proper_prob.shape"
   ]
  },
  {
   "cell_type": "code",
   "execution_count": null,
   "metadata": {},
   "outputs": [],
   "source": [
    "y_predict_proper"
   ]
  },
  {
   "cell_type": "code",
   "execution_count": null,
   "metadata": {},
   "outputs": [],
   "source": [
    "y_test_proper = np.asarray(y_test_proper).reshape((46, 100))\n",
    "y_test_proper_visualize = np.asarray(y_test_proper).reshape((46, 10, 10))\n",
    "\n",
    "y_predict_proper = np.asarray(y_predict_proper).reshape((46, 100))\n",
    "y_predict_proper_visualize = np.asarray(y_predict_proper).reshape((46, 10, 10))"
   ]
  },
  {
   "cell_type": "markdown",
   "metadata": {},
   "source": [
    "# Show original"
   ]
  },
  {
   "cell_type": "code",
   "execution_count": null,
   "metadata": {},
   "outputs": [],
   "source": [
    "frame_roi_colors = np.zeros((rois.shape[0], rois.shape[1], 3))\n",
    "frame_roi_colors_2 = np.zeros((rois.shape[0], rois.shape[1], 3))\n",
    "frame_roi_colors_multiple = np.zeros((rois.shape[0], rois.shape[1]))\n",
    "frame_roi_colors_original = np.zeros((rois.shape[0], rois.shape[1], 3))\n",
    "\n",
    "colors = [\n",
    "    (250, 0, 0),\n",
    "    (0, 250, 0),\n",
    "    (0, 0, 250),\n",
    "    (250, 250, 0),\n",
    "    (250, 0, 250),\n",
    "    (0, 250, 250),\n",
    "    (250, 250, 250),\n",
    "    (100, 0, 50),\n",
    "    (0, 50, 200),\n",
    "    (70, 50, 200)\n",
    "]\n",
    "\n",
    "frame_roi_colors[0, :, :] = np.asarray(colors)\n",
    "frame_roi_colors_2[0, :, :] = np.asarray(colors)\n",
    "\n",
    "for i in range(rois.shape[0]):\n",
    "    frame_roi_colors_original[i, :, :] = np.asarray(colors)\n",
    "\n"
   ]
  },
  {
   "cell_type": "code",
   "execution_count": null,
   "metadata": {
    "scrolled": true
   },
   "outputs": [],
   "source": [
    "tracked_frames_original = view_tracking_video.add_tracks_with_colors(deepcopy(frames), rois, frame_roi_colors_original)\n",
    "view_tracking_video.visualize_sequence(tracked_frames_original)"
   ]
  },
  {
   "cell_type": "markdown",
   "metadata": {},
   "source": [
    "# Show tracks with multiple selection"
   ]
  },
  {
   "cell_type": "code",
   "execution_count": null,
   "metadata": {},
   "outputs": [],
   "source": [
    "for frame_index in range(0, y_predict_proper.shape[0] - 1):\n",
    "    for roi_match_index in range(y_predict_proper.shape[1]):\n",
    "\n",
    "        if y_predict_proper[frame_index, roi_match_index] == 1:\n",
    "            current_frame_roi_index = int(roi_match_index / 10)\n",
    "            future_frame_roi_index = roi_match_index % 10\n",
    "            frame_roi_colors[frame_index+1, future_frame_roi_index] = frame_roi_colors[frame_index, current_frame_roi_index]"
   ]
  },
  {
   "cell_type": "code",
   "execution_count": null,
   "metadata": {
    "scrolled": false
   },
   "outputs": [],
   "source": [
    "tracked_frames = view_tracking_video.add_tracks_with_colors(deepcopy(frames), rois, frame_roi_colors)\n",
    "view_tracking_video.visualize_sequence(tracked_frames)"
   ]
  },
  {
   "cell_type": "markdown",
   "metadata": {},
   "source": [
    "# Show tracks with single selection"
   ]
  },
  {
   "cell_type": "code",
   "execution_count": null,
   "metadata": {},
   "outputs": [],
   "source": [
    "for frame_index in range(0, y_predict_proper.shape[0] - 1):\n",
    "    for roi_match_index in range(y_predict_proper.shape[1]):\n",
    "\n",
    "        if y_predict_proper[frame_index, roi_match_index] == 1:\n",
    "            current_frame_roi_index = int(roi_match_index / 10)\n",
    "            future_frame_roi_index = roi_match_index % 10\n",
    "            frame_roi_colors_2[frame_index+1, future_frame_roi_index] = frame_roi_colors_original[frame_index, current_frame_roi_index]\n",
    "            frame_roi_colors_multiple[frame_index+1, future_frame_roi_index] += 1"
   ]
  },
  {
   "cell_type": "code",
   "execution_count": null,
   "metadata": {
    "scrolled": true
   },
   "outputs": [],
   "source": [
    "tracked_frames = view_tracking_video.add_tracks_with_single_colors(deepcopy(frames), rois, frame_roi_colors_2, frame_roi_colors_multiple)\n",
    "view_tracking_video.visualize_two_sequences(tracked_frames_original, tracked_frames)"
   ]
  },
  {
   "cell_type": "markdown",
   "metadata": {},
   "source": [
    "## Draw tracks using probability"
   ]
  },
  {
   "cell_type": "code",
   "execution_count": null,
   "metadata": {},
   "outputs": [],
   "source": [
    "reshape_y_predict_proper_prob = y_predict_proper_prob.reshape((46, 10, 10))\n",
    "for frame_index in range(0, 45):\n",
    "    \n",
    "    for f_roi in range(10):\n",
    "        probs = reshape_y_predict_proper_prob[frame_index][:,f_roi]\n",
    "        p_roi = np.argmax(probs)\n",
    "        frame_roi_colors_2[frame_index+1, f_roi] = frame_roi_colors_original[frame_index, p_roi]\n"
   ]
  },
  {
   "cell_type": "code",
   "execution_count": null,
   "metadata": {
    "scrolled": false
   },
   "outputs": [],
   "source": [
    "tracked_frames = view_tracking_video.add_tracks_with_colors(deepcopy(frames), rois, frame_roi_colors_2)\n",
    "view_tracking_video.visualize_two_sequences(tracked_frames_original, tracked_frames)"
   ]
  },
  {
   "cell_type": "markdown",
   "metadata": {},
   "source": [
    "# Color palette"
   ]
  },
  {
   "cell_type": "code",
   "execution_count": null,
   "metadata": {},
   "outputs": [],
   "source": [
    "color_frame = np.full((100,10, 3), 255)"
   ]
  },
  {
   "cell_type": "code",
   "execution_count": null,
   "metadata": {},
   "outputs": [],
   "source": [
    "for i in range(len(colors)):\n",
    "    color = colors[i]\n",
    "    color_frame[i*10: (i+1) * 10, :, :] = np.asarray(color)"
   ]
  },
  {
   "cell_type": "code",
   "execution_count": null,
   "metadata": {
    "scrolled": false
   },
   "outputs": [],
   "source": [
    "plt.imshow(color_frame)"
   ]
  },
  {
   "cell_type": "code",
   "execution_count": null,
   "metadata": {},
   "outputs": [],
   "source": []
  }
 ],
 "metadata": {
  "kernelspec": {
   "display_name": "Python 3",
   "language": "python",
   "name": "python3"
  },
  "language_info": {
   "codemirror_mode": {
    "name": "ipython",
    "version": 3
   },
   "file_extension": ".py",
   "mimetype": "text/x-python",
   "name": "python",
   "nbconvert_exporter": "python",
   "pygments_lexer": "ipython3",
   "version": "3.7.4"
  }
 },
 "nbformat": 4,
 "nbformat_minor": 2
}
