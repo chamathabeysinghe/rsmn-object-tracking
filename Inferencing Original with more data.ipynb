{
 "cells": [
  {
   "cell_type": "code",
   "execution_count": 1,
   "metadata": {},
   "outputs": [
    {
     "name": "stderr",
     "output_type": "stream",
     "text": [
      "/usr/local/lib/python3.7/site-packages/sklearn/externals/joblib/__init__.py:15: DeprecationWarning: sklearn.externals.joblib is deprecated in 0.21 and will be removed in 0.23. Please import this functionality directly from joblib, which can be installed with: pip install joblib. If this warning is raised when loading pickled models, you may need to re-serialize those models with scikit-learn 0.21+.\n",
      "  warnings.warn(msg, category=DeprecationWarning)\n"
     ]
    }
   ],
   "source": [
    "import numpy as np\n",
    "import os\n",
    "from data import dnn_input\n",
    "from data import classifier_input\n",
    "from data import view_tracking_video\n",
    "from sklearn.externals import joblib\n",
    "from copy import copy, deepcopy\n",
    "import matplotlib.pyplot as plt\n",
    "import pandas as pd"
   ]
  },
  {
   "cell_type": "code",
   "execution_count": 2,
   "metadata": {},
   "outputs": [],
   "source": [
    "test_data_path = './data/test/'\n",
    "current_video_index = 0"
   ]
  },
  {
   "cell_type": "code",
   "execution_count": 3,
   "metadata": {},
   "outputs": [],
   "source": [
    "test_data = dnn_input.get_processed_frames_for_multiple_videos(os.path.abspath(test_data_path), relative=False)[current_video_index]\n",
    "frames = dnn_input.get_frames_for_multiple_videos(os.path.abspath(test_data_path), start=1, end=46)[current_video_index]\n",
    "rois = test_data[1]\n",
    "\n",
    "output_test = np.load('./weights/multiple_test_video_dnn_output.npy')[current_video_index]"
   ]
  },
  {
   "cell_type": "code",
   "execution_count": 4,
   "metadata": {},
   "outputs": [],
   "source": [
    "X_test_proper, y_test_proper = classifier_input.get_processed_classifier_input_inference(output_test, normalized=True, balanced=False, do_shuffle=False)\n"
   ]
  },
  {
   "cell_type": "code",
   "execution_count": 5,
   "metadata": {},
   "outputs": [],
   "source": [
    "normalizer = joblib.load('./checkpoints/normalizer.joblib.pkl')\n",
    "X_test_proper_cp = normalizer.transform(X_test_proper)\n"
   ]
  },
  {
   "cell_type": "code",
   "execution_count": 6,
   "metadata": {},
   "outputs": [],
   "source": [
    "pca = joblib.load('./checkpoints/pca.joblib.pkl')\n",
    "X_pca_test_proper = pca.transform(X_test_proper_cp)"
   ]
  },
  {
   "cell_type": "code",
   "execution_count": 7,
   "metadata": {},
   "outputs": [],
   "source": [
    "clf = joblib.load('./checkpoints/lgbmclassifier.joblib.pkl')"
   ]
  },
  {
   "cell_type": "code",
   "execution_count": 8,
   "metadata": {},
   "outputs": [
    {
     "name": "stdout",
     "output_type": "stream",
     "text": [
      "0.9502173913043478\n"
     ]
    }
   ],
   "source": [
    "print(clf.score(X_pca_test_proper, y_test_proper))\n",
    "y_predict_proper = clf.predict(X_pca_test_proper)\n",
    "y_predict_proper_prob = clf.predict_proba(X_pca_test_proper)[:,1]"
   ]
  },
  {
   "cell_type": "code",
   "execution_count": 9,
   "metadata": {},
   "outputs": [
    {
     "data": {
      "text/plain": [
       "(4600,)"
      ]
     },
     "execution_count": 9,
     "metadata": {},
     "output_type": "execute_result"
    }
   ],
   "source": [
    "y_predict_proper_prob.shape"
   ]
  },
  {
   "cell_type": "code",
   "execution_count": 10,
   "metadata": {},
   "outputs": [
    {
     "data": {
      "text/plain": [
       "array([0, 0, 1, ..., 0, 0, 1])"
      ]
     },
     "execution_count": 10,
     "metadata": {},
     "output_type": "execute_result"
    }
   ],
   "source": [
    "y_predict_proper"
   ]
  },
  {
   "cell_type": "code",
   "execution_count": 11,
   "metadata": {},
   "outputs": [],
   "source": [
    "y_test_proper = np.asarray(y_test_proper).reshape((46, 100))\n",
    "y_test_proper_visualize = np.asarray(y_test_proper).reshape((46, 10, 10))\n",
    "\n",
    "y_predict_proper = np.asarray(y_predict_proper).reshape((46, 100))\n",
    "y_predict_proper_visualize = np.asarray(y_predict_proper).reshape((46, 10, 10))"
   ]
  },
  {
   "cell_type": "markdown",
   "metadata": {},
   "source": [
    "# Show original"
   ]
  },
  {
   "cell_type": "code",
   "execution_count": 12,
   "metadata": {},
   "outputs": [],
   "source": [
    "frame_roi_colors = np.zeros((rois.shape[0], rois.shape[1], 3))\n",
    "frame_roi_colors_2 = np.zeros((rois.shape[0], rois.shape[1], 3))\n",
    "frame_roi_colors_multiple = np.zeros((rois.shape[0], rois.shape[1]))\n",
    "frame_roi_colors_original = np.zeros((rois.shape[0], rois.shape[1], 3))\n",
    "\n",
    "colors = [\n",
    "    (250, 0, 0),\n",
    "    (0, 250, 0),\n",
    "    (0, 0, 250),\n",
    "    (250, 250, 0),\n",
    "    (250, 0, 250),\n",
    "    (0, 250, 250),\n",
    "    (250, 250, 250),\n",
    "    (100, 0, 50),\n",
    "    (0, 50, 200),\n",
    "    (70, 50, 200)\n",
    "]\n",
    "\n",
    "frame_roi_colors[0, :, :] = np.asarray(colors)\n",
    "frame_roi_colors_2[0, :, :] = np.asarray(colors)\n",
    "\n",
    "for i in range(rois.shape[0]):\n",
    "    frame_roi_colors_original[i, :, :] = np.asarray(colors)\n",
    "\n"
   ]
  },
  {
   "cell_type": "code",
   "execution_count": 13,
   "metadata": {},
   "outputs": [],
   "source": [
    "tracked_frames_original = view_tracking_video.add_tracks_with_colors(deepcopy(frames), rois, frame_roi_colors_original)\n",
    "# view_tracking_video.visualize_sequence(tracked_frames_original)\n",
    "view_tracking_video.write_to_files(tracked_frames_original, './data/view/originals')\n"
   ]
  },
  {
   "cell_type": "markdown",
   "metadata": {},
   "source": [
    "# Show tracks with multiple selection"
   ]
  },
  {
   "cell_type": "code",
   "execution_count": null,
   "metadata": {},
   "outputs": [],
   "source": [
    "for frame_index in range(0, y_predict_proper.shape[0] - 1):\n",
    "    for roi_match_index in range(y_predict_proper.shape[1]):\n",
    "\n",
    "        if y_predict_proper[frame_index, roi_match_index] == 1:\n",
    "            current_frame_roi_index = int(roi_match_index / 10)\n",
    "            future_frame_roi_index = roi_match_index % 10\n",
    "            frame_roi_colors[frame_index+1, future_frame_roi_index] = frame_roi_colors[frame_index, current_frame_roi_index]"
   ]
  },
  {
   "cell_type": "code",
   "execution_count": null,
   "metadata": {
    "scrolled": true
   },
   "outputs": [],
   "source": [
    "tracked_frames = view_tracking_video.add_tracks_with_colors(deepcopy(frames), rois, frame_roi_colors)\n",
    "view_tracking_video.visualize_sequence(tracked_frames)"
   ]
  },
  {
   "cell_type": "markdown",
   "metadata": {},
   "source": [
    "# Show tracks with single selection"
   ]
  },
  {
   "cell_type": "code",
   "execution_count": null,
   "metadata": {},
   "outputs": [],
   "source": [
    "for frame_index in range(0, y_predict_proper.shape[0] - 1):\n",
    "    for roi_match_index in range(y_predict_proper.shape[1]):\n",
    "\n",
    "        if y_predict_proper[frame_index, roi_match_index] == 1:\n",
    "            current_frame_roi_index = int(roi_match_index / 10)\n",
    "            future_frame_roi_index = roi_match_index % 10\n",
    "            frame_roi_colors_2[frame_index+1, future_frame_roi_index] = frame_roi_colors_original[frame_index, current_frame_roi_index]\n",
    "            frame_roi_colors_multiple[frame_index+1, future_frame_roi_index] += 1"
   ]
  },
  {
   "cell_type": "code",
   "execution_count": null,
   "metadata": {
    "scrolled": true
   },
   "outputs": [],
   "source": [
    "tracked_frames = view_tracking_video.add_tracks_with_single_colors(deepcopy(frames), rois, frame_roi_colors_2, frame_roi_colors_multiple)\n",
    "view_tracking_video.visualize_two_sequences(tracked_frames_original, tracked_frames)"
   ]
  },
  {
   "cell_type": "markdown",
   "metadata": {},
   "source": [
    "## Draw tracks using probability"
   ]
  },
  {
   "cell_type": "code",
   "execution_count": null,
   "metadata": {},
   "outputs": [],
   "source": [
    "reshape_y_predict_proper_prob = y_predict_proper_prob.reshape((46, 10, 10))\n",
    "for frame_index in range(0, 45):\n",
    "    pd.DataFrame(reshape_y_predict_proper_prob[frame_index]).to_csv('./data/view/probs/{}.csv'.format(frame_index+1))\n",
    "    for f_roi in range(10):\n",
    "        probs = reshape_y_predict_proper_prob[frame_index][:,f_roi]\n",
    "        p_roi = np.argmax(probs)\n",
    "        frame_roi_colors_2[frame_index+1, f_roi] = frame_roi_colors_original[frame_index, p_roi]\n"
   ]
  },
  {
   "cell_type": "code",
   "execution_count": null,
   "metadata": {
    "scrolled": false
   },
   "outputs": [],
   "source": [
    "tracked_frames = view_tracking_video.add_tracks_with_colors(deepcopy(frames), rois, frame_roi_colors_2)\n",
    "# view_tracking_video.visualize_two_sequences(tracked_frames_original, tracked_frames)\n",
    "view_tracking_video.write_to_files(tracked_frames, './data/view/predictions')\n"
   ]
  },
  {
   "cell_type": "markdown",
   "metadata": {},
   "source": [
    "## Hungarian Algorithm"
   ]
  },
  {
   "cell_type": "code",
   "execution_count": 14,
   "metadata": {},
   "outputs": [],
   "source": [
    "from scipy.optimize import linear_sum_assignment"
   ]
  },
  {
   "cell_type": "code",
   "execution_count": 15,
   "metadata": {},
   "outputs": [],
   "source": [
    "reshape_y_predict_proper_prob = y_predict_proper_prob.reshape((46, 10, 10))\n",
    "reshape_y_predict_proper_prob = -1 * reshape_y_predict_proper_prob\n",
    "for frame_index in range(0, 45):\n",
    "    pd.DataFrame(reshape_y_predict_proper_prob[frame_index]).to_csv('./data/view/probs/{}.csv'.format(frame_index+1))\n",
    "    row_ind, col_ind = linear_sum_assignment(reshape_y_predict_proper_prob[frame_index])\n",
    "    frame_optimization = np.zeros((10, 10))\n",
    "    for f_roi in range(10):\n",
    "        p_roi = col_ind[f_roi]\n",
    "        frame_optimization[p_roi, f_roi] = 1\n",
    "        frame_roi_colors_2[frame_index+1, f_roi] = frame_roi_colors_original[frame_index, p_roi]\n",
    "    pd.DataFrame(frame_optimization).to_csv('./data/view/optimization_hungarian/{}.csv'.format(frame_index+1))"
   ]
  },
  {
   "cell_type": "code",
   "execution_count": 16,
   "metadata": {},
   "outputs": [],
   "source": [
    "tracked_frames = view_tracking_video.add_tracks_with_colors(deepcopy(frames), rois, frame_roi_colors_2)\n",
    "# view_tracking_video.visualize_two_sequences(tracked_frames_original, tracked_frames)\n",
    "view_tracking_video.write_to_files(tracked_frames, './data/view/predictions')\n"
   ]
  },
  {
   "cell_type": "markdown",
   "metadata": {},
   "source": [
    "## Linear Optimization"
   ]
  },
  {
   "cell_type": "code",
   "execution_count": null,
   "metadata": {},
   "outputs": [],
   "source": []
  },
  {
   "cell_type": "markdown",
   "metadata": {},
   "source": [
    "# Color palette"
   ]
  },
  {
   "cell_type": "code",
   "execution_count": null,
   "metadata": {},
   "outputs": [],
   "source": [
    "color_frame = np.full((100,10, 3), 255)"
   ]
  },
  {
   "cell_type": "code",
   "execution_count": null,
   "metadata": {},
   "outputs": [],
   "source": [
    "for i in range(len(colors)):\n",
    "    color = colors[i]\n",
    "    color_frame[i*10: (i+1) * 10, :, :] = np.asarray(color)"
   ]
  },
  {
   "cell_type": "code",
   "execution_count": null,
   "metadata": {
    "scrolled": true
   },
   "outputs": [],
   "source": [
    "plt.imshow(color_frame)"
   ]
  },
  {
   "cell_type": "code",
   "execution_count": null,
   "metadata": {},
   "outputs": [],
   "source": []
  }
 ],
 "metadata": {
  "kernelspec": {
   "display_name": "Python 3",
   "language": "python",
   "name": "python3"
  },
  "language_info": {
   "codemirror_mode": {
    "name": "ipython",
    "version": 3
   },
   "file_extension": ".py",
   "mimetype": "text/x-python",
   "name": "python",
   "nbconvert_exporter": "python",
   "pygments_lexer": "ipython3",
   "version": "3.7.4"
  }
 },
 "nbformat": 4,
 "nbformat_minor": 2
}
